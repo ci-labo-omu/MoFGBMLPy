{
 "cells": [
  {
   "metadata": {},
   "cell_type": "markdown",
   "source": "Display Help",
   "id": "aaa4b8ca7b27140c"
  },
  {
   "metadata": {
    "ExecuteTime": {
     "end_time": "2024-08-09T01:46:20.766032Z",
     "start_time": "2024-08-09T01:46:20.188830Z"
    }
   },
   "cell_type": "code",
   "source": [
    "from mofgbmlpy.fuzzy.knowledge.factory.homo_triangle_knowledge_factory_5 import HomoTriangleKnowledgeFactory_5\n",
    "from mofgbmlpy.main.moead.mofgbml_moead_main import MoFGBMLMOEADMain\n",
    "from mofgbmlpy.fuzzy.knowledge.factory.homo_triangle_knowledge_factory_2_3_4_5 import HomoTriangleKnowledgeFactory_2_3_4_5\n",
    "from mofgbmlpy.main.nsgaii.mofgbml_nsgaii_main import MoFGBMLNSGAIIMain\n",
    "\n",
    "# runner = MoFGBMLNSGAIIMain(HomoTriangleKnowledgeFactory_2_3_4_5)\n",
    "# results = runner.main([\"--help\"])"
   ],
   "id": "d6274db712bae399",
   "execution_count": 1,
   "outputs": []
  },
  {
   "metadata": {
    "ExecuteTime": {
     "end_time": "2024-08-09T01:46:20.777259Z",
     "start_time": "2024-08-09T01:46:20.767040Z"
    }
   },
   "cell_type": "code",
   "source": "%matplotlib inline",
   "id": "a7aa0130fdb8c225",
   "execution_count": 2,
   "outputs": []
  },
  {
   "metadata": {},
   "cell_type": "markdown",
   "source": "Run MoFGBMLPy",
   "id": "cd830c4887aae02e"
  },
  {
   "cell_type": "code",
   "id": "initial_id",
   "metadata": {
    "collapsed": true,
    "ExecuteTime": {
     "end_time": "2024-08-09T01:46:45.380667Z",
     "start_time": "2024-08-09T01:46:42.389935Z"
    }
   },
   "source": [
    "args = [\n",
    "    \"--algorithm-id\", \"1\",\n",
    "    \"--experiment-id\", \"2\",\n",
    "    \"--data-name\", \"iris\",\n",
    "    \"--train-file\", \"../dataset/iris/a0_0_iris-10tra.dat\",\n",
    "    \"--test-file\", \"../dataset/iris/a0_0_iris-10tst.dat\",\n",
    "    \"--terminate-evaluation\", \"3000\",\n",
    "    \"--objectives\", \"total-rule-length\", \"error-rate\",\n",
    "    # \"--crossover-type\", \"pittsburgh-crossover\",\n",
    "    # \"--antecedent-factory\", \"all-combination-antecedent-factory\",\n",
    "    \"--no-output-files\"\n",
    "]\n",
    "\n",
    "runner = MoFGBMLNSGAIIMain(HomoTriangleKnowledgeFactory_5)\n",
    "results = runner.main(args)"
   ],
   "execution_count": 4,
   "outputs": []
  },
  {
   "metadata": {
    "ExecuteTime": {
     "end_time": "2024-08-05T05:13:28.890516Z",
     "start_time": "2024-08-05T05:13:28.884517Z"
    }
   },
   "cell_type": "code",
   "source": [
    "min_length = results.opt.get(\"X\")[0, 0].get_var(0).get_rule().get_length()\n",
    "max_length = min_length\n",
    "for sol in results.opt.get(\"X\")[:, 0]:\n",
    "    for var in sol.get_vars():\n",
    "        length = var.get_rule().get_length()\n",
    "        if length < min_length:\n",
    "            min_length = length\n",
    "        elif length > max_length:\n",
    "            max_length = length\n",
    "print(min_length, max_length) "
   ],
   "id": "86c2a4fd2124129c",
   "execution_count": 15,
   "outputs": []
  },
  {
   "metadata": {},
   "cell_type": "markdown",
   "source": "Visualization",
   "id": "e0be31c241cbe579"
  },
  {
   "metadata": {
    "ExecuteTime": {
     "end_time": "2024-08-05T05:13:28.896734Z",
     "start_time": "2024-08-05T05:13:28.890516Z"
    }
   },
   "cell_type": "code",
   "source": [
    "i = 1\n",
    "for var in results.opt.get(\"X\")[0, 0].get_vars():\n",
    "    print(f\"{i}:\\t{var.get_rule().get_linguistic_representation()}\")\n",
    "    i += 1"
   ],
   "id": "7254819a01833ee1",
   "execution_count": 16,
   "outputs": []
  },
  {
   "metadata": {
    "ExecuteTime": {
     "end_time": "2024-08-05T05:13:28.995070Z",
     "start_time": "2024-08-05T05:13:28.896734Z"
    }
   },
   "cell_type": "code",
   "source": "runner.get_pareto_front_plot(results.opt).show()",
   "id": "b47d7d4d82d11533",
   "execution_count": 17,
   "outputs": []
  },
  {
   "metadata": {
    "ExecuteTime": {
     "end_time": "2024-08-05T05:20:53.974027Z",
     "start_time": "2024-08-05T05:20:53.968626Z"
    }
   },
   "cell_type": "code",
   "source": "results.opt.get('X')[1,0]",
   "id": "c8f30f4c1d21dad3",
   "execution_count": 21,
   "outputs": []
  },
  {
   "metadata": {
    "ExecuteTime": {
     "end_time": "2024-08-05T05:13:29.697711Z",
     "start_time": "2024-08-05T05:13:28.995070Z"
    }
   },
   "cell_type": "code",
   "source": [
    "# runner.plot_line_interpretability_error_rate_tradeoff(results.opt.get('X')[:, 0], title=\"MoFGBMLPy on Iris with NSGA-II\", xlim=[0,16])\n",
    "# runner.plot_line_interpretability_error_rate_tradeoff(results.opt.get('X')[:, 0], title=\"MoFGBMLPy on Iris with MOEA/D\", xlim=[0,10])\n",
    "runner.plot_line_interpretability_error_rate_tradeoff(results.opt.get('X')[:, 0], title=\"MoFGBMLPy on Pima with NSGA-II\", xlim=[0,70])\n",
    "runner.plot_fuzzy_variables()"
   ],
   "id": "e609a47aaa7a7c76",
   "execution_count": 18,
   "outputs": []
  },
  {
   "metadata": {
    "ExecuteTime": {
     "end_time": "2024-08-04T15:31:56.972336Z",
     "start_time": "2024-08-04T15:31:25.813802Z"
    }
   },
   "cell_type": "code",
   "source": "runner.save_video(results.history, \"nsgaii_iris.mp4\")",
   "id": "a412c5a9b33e4dc2",
   "execution_count": 8,
   "outputs": []
  },
  {
   "metadata": {},
   "cell_type": "markdown",
   "source": "If the video doesn't play you can just get it in examples/ga.mp4",
   "id": "7c329c0f54df95ec"
  },
  {
   "metadata": {
    "ExecuteTime": {
     "end_time": "2024-08-04T15:31:56.977162Z",
     "start_time": "2024-08-04T15:31:56.972336Z"
    }
   },
   "cell_type": "code",
   "source": [
    "from IPython.display import Video\n",
    "Video('./nsgaii_iris.mp4')"
   ],
   "id": "bff7641da5e5fff4",
   "execution_count": 9,
   "outputs": []
  },
  {
   "metadata": {
    "ExecuteTime": {
     "end_time": "2024-08-04T15:31:56.979732Z",
     "start_time": "2024-08-04T15:31:56.977162Z"
    }
   },
   "cell_type": "code",
   "source": "",
   "id": "e3250a48cf4b3041",
   "execution_count": 9,
   "outputs": []
  },
  {
   "metadata": {},
   "cell_type": "markdown",
   "source": "The time required to run the algorithm\n",
   "id": "f8dc617fb586e72"
  },
  {
   "metadata": {
    "ExecuteTime": {
     "end_time": "2024-08-04T15:31:56.983917Z",
     "start_time": "2024-08-04T15:31:56.979732Z"
    }
   },
   "cell_type": "code",
   "source": "results.exec_time",
   "id": "eab7fef98d755b50",
   "execution_count": 10,
   "outputs": []
  },
  {
   "metadata": {},
   "cell_type": "markdown",
   "source": "",
   "id": "5305ba3ad4c4997d"
  },
  {
   "metadata": {},
   "cell_type": "markdown",
   "source": "The final Population (Pymoo individual objects)",
   "id": "7f4b8a968f186064"
  },
  {
   "metadata": {
    "ExecuteTime": {
     "end_time": "2024-08-04T15:31:56.991483Z",
     "start_time": "2024-08-04T15:31:56.983917Z"
    }
   },
   "cell_type": "code",
   "source": "results.pop",
   "id": "3009188a7247865f",
   "execution_count": 11,
   "outputs": []
  },
  {
   "metadata": {},
   "cell_type": "markdown",
   "source": "",
   "id": "4f4cb0d1c32fb9a8"
  },
  {
   "metadata": {},
   "cell_type": "markdown",
   "source": "The best population design space values (here there is one variable which is a Pittsburgh solution)",
   "id": "a9977f68564eff93"
  },
  {
   "metadata": {
    "ExecuteTime": {
     "end_time": "2024-08-04T15:31:56.998689Z",
     "start_time": "2024-08-04T15:31:56.991483Z"
    }
   },
   "cell_type": "code",
   "source": "results.X",
   "id": "613338acc731084c",
   "execution_count": 12,
   "outputs": []
  },
  {
   "metadata": {},
   "cell_type": "markdown",
   "source": "The best population objective spaces values",
   "id": "ef5e7a0c8c2b080e"
  },
  {
   "metadata": {
    "ExecuteTime": {
     "end_time": "2024-08-04T15:31:57.011907Z",
     "start_time": "2024-08-04T15:31:56.998689Z"
    }
   },
   "cell_type": "code",
   "source": "results.F",
   "id": "4de6cb0f6de83bf1",
   "execution_count": 13,
   "outputs": []
  },
  {
   "metadata": {},
   "cell_type": "markdown",
   "source": "",
   "id": "710d4e8caacaede6"
  },
  {
   "metadata": {},
   "cell_type": "markdown",
   "source": "Algorithm object which has been iterated over (e.g. NSGA2 from Pymoo)",
   "id": "69e1a969d37ad4b4"
  },
  {
   "metadata": {
    "ExecuteTime": {
     "end_time": "2024-08-04T15:31:57.017924Z",
     "start_time": "2024-08-04T15:31:57.011907Z"
    }
   },
   "cell_type": "code",
   "source": "results.algorithm",
   "id": "3e671c5488845def",
   "execution_count": 14,
   "outputs": []
  },
  {
   "metadata": {},
   "cell_type": "markdown",
   "source": "Archive population (populations of each generation)",
   "id": "13726358ae4823"
  },
  {
   "metadata": {
    "ExecuteTime": {
     "end_time": "2024-08-04T15:31:57.064371Z",
     "start_time": "2024-08-04T15:31:57.017924Z"
    }
   },
   "cell_type": "code",
   "source": [
    "results.archive.get(\"X\")\n",
    "# results.archive.get(\"F\")"
   ],
   "id": "5ad4874a58689d67",
   "execution_count": 15,
   "outputs": []
  },
  {
   "metadata": {},
   "cell_type": "markdown",
   "source": "The best solutions as a Population object",
   "id": "66da8e85369c354b"
  },
  {
   "metadata": {
    "ExecuteTime": {
     "end_time": "2024-08-04T15:31:57.069211Z",
     "start_time": "2024-08-04T15:31:57.064371Z"
    }
   },
   "cell_type": "code",
   "source": "results.opt",
   "id": "9d967eb629690c05",
   "execution_count": 16,
   "outputs": []
  },
  {
   "metadata": {},
   "cell_type": "markdown",
   "source": "Name of the objectives that are minimized",
   "id": "d2f6594519320f89"
  },
  {
   "metadata": {
    "ExecuteTime": {
     "end_time": "2024-08-04T15:31:57.073742Z",
     "start_time": "2024-08-04T15:31:57.070217Z"
    }
   },
   "cell_type": "code",
   "source": "results.objectives_name",
   "id": "87bfe9a03610a89b",
   "execution_count": 17,
   "outputs": []
  }
 ],
 "metadata": {
  "kernelspec": {
   "display_name": "Python 3",
   "language": "python",
   "name": "python3"
  },
  "language_info": {
   "codemirror_mode": {
    "name": "ipython",
    "version": 2
   },
   "file_extension": ".py",
   "mimetype": "text/x-python",
   "name": "python",
   "nbconvert_exporter": "python",
   "pygments_lexer": "ipython2",
   "version": "2.7.6"
  }
 },
 "nbformat": 4,
 "nbformat_minor": 5
}
