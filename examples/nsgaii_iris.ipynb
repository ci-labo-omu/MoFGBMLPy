{
 "cells": [
  {
   "metadata": {
    "ExecuteTime": {
     "end_time": "2024-07-30T15:10:58.149809Z",
     "start_time": "2024-07-30T15:10:57.836782Z"
    }
   },
   "cell_type": "code",
   "source": "%matplotlib inline",
   "id": "a7aa0130fdb8c225",
   "execution_count": 1,
   "outputs": []
  },
  {
   "cell_type": "code",
   "id": "initial_id",
   "metadata": {
    "collapsed": true,
    "ExecuteTime": {
     "end_time": "2024-07-31T04:57:20.883027Z",
     "start_time": "2024-07-31T04:57:17.968897Z"
    }
   },
   "source": [
    "from mofgbmlpy.fuzzy.knowledge.factory.homo_triangle_knowledge_factory_2_3_4_5 import HomoTriangleKnowledgeFactory_2_3_4_5\n",
    "from mofgbmlpy.main.basic.mofgbml_basic_main import MoFGBMLBasicMain\n",
    "\n",
    "args = [\n",
    "    \"--data-name\", \"iris\",\n",
    "    \"--algorithm-id\", \"1\",\n",
    "    \"--experiment-id\", \"2\",\n",
    "    \"--train-file\", \"../dataset/iris/a0_0_iris-10tra.dat\",\n",
    "    \"--test-file\", \"../dataset/iris/a0_0_iris-10tst.dat\",\n",
    "    \"--terminate-generation\", \"50\",\n",
    "    \"--objectives\", \"num-rules\", \"error-rate\",\n",
    "    # \"--crossover-type\", \"pittsburgh-crossover\",\n",
    "    # \"--antecedent-factory\", \"all-combination-antecedent-factory\",\n",
    "    \"--no-plot\"\n",
    "]\n",
    "\n",
    "runner = MoFGBMLBasicMain(HomoTriangleKnowledgeFactory_2_3_4_5)\n",
    "results = runner.main(args)"
   ],
   "execution_count": 1,
   "outputs": []
  },
  {
   "metadata": {},
   "cell_type": "markdown",
   "source": "Plot",
   "id": "e0be31c241cbe579"
  },
  {
   "metadata": {
    "ExecuteTime": {
     "end_time": "2024-07-30T15:11:00.889180Z",
     "start_time": "2024-07-30T15:11:00.794517Z"
    }
   },
   "cell_type": "code",
   "source": "runner.get_plot(results.opt).show()",
   "id": "e609a47aaa7a7c76",
   "execution_count": 3,
   "outputs": []
  },
  {
   "metadata": {
    "ExecuteTime": {
     "end_time": "2024-07-30T15:11:04.775990Z",
     "start_time": "2024-07-30T15:11:00.889180Z"
    }
   },
   "cell_type": "code",
   "source": "runner.save_video(results.archive, \"nsgaii_iris.mp4\")",
   "id": "a412c5a9b33e4dc2",
   "execution_count": 4,
   "outputs": []
  },
  {
   "metadata": {},
   "cell_type": "markdown",
   "source": "If the video doesn't play you can just get it in examples/ga.mp4",
   "id": "7c329c0f54df95ec"
  },
  {
   "metadata": {
    "ExecuteTime": {
     "end_time": "2024-07-30T15:11:45.622592Z",
     "start_time": "2024-07-30T15:11:45.613423Z"
    }
   },
   "cell_type": "code",
   "source": [
    "from IPython.display import Video\n",
    "Video('./nsgaii_iris.mp4')"
   ],
   "id": "bff7641da5e5fff4",
   "execution_count": 15,
   "outputs": []
  },
  {
   "metadata": {},
   "cell_type": "markdown",
   "source": "The time required to run the algorithm\n",
   "id": "f8dc617fb586e72"
  },
  {
   "metadata": {
    "ExecuteTime": {
     "end_time": "2024-07-30T15:11:04.789113Z",
     "start_time": "2024-07-30T15:11:04.784810Z"
    }
   },
   "cell_type": "code",
   "source": "results.exec_time",
   "id": "eab7fef98d755b50",
   "execution_count": 6,
   "outputs": []
  },
  {
   "metadata": {},
   "cell_type": "markdown",
   "source": "",
   "id": "5305ba3ad4c4997d"
  },
  {
   "metadata": {},
   "cell_type": "markdown",
   "source": "The final Population (Pymoo individual objects)",
   "id": "7f4b8a968f186064"
  },
  {
   "metadata": {
    "ExecuteTime": {
     "end_time": "2024-07-30T15:11:04.795189Z",
     "start_time": "2024-07-30T15:11:04.789113Z"
    }
   },
   "cell_type": "code",
   "source": "results.pop",
   "id": "3009188a7247865f",
   "execution_count": 7,
   "outputs": []
  },
  {
   "metadata": {},
   "cell_type": "markdown",
   "source": "",
   "id": "4f4cb0d1c32fb9a8"
  },
  {
   "metadata": {},
   "cell_type": "markdown",
   "source": "The best population design space values (here there is one variable which is a Pittsburgh solution)",
   "id": "a9977f68564eff93"
  },
  {
   "metadata": {
    "ExecuteTime": {
     "end_time": "2024-07-30T15:11:04.800376Z",
     "start_time": "2024-07-30T15:11:04.795189Z"
    }
   },
   "cell_type": "code",
   "source": "results.X",
   "id": "613338acc731084c",
   "execution_count": 8,
   "outputs": []
  },
  {
   "metadata": {},
   "cell_type": "markdown",
   "source": "The best population objective spaces values",
   "id": "ef5e7a0c8c2b080e"
  },
  {
   "metadata": {
    "ExecuteTime": {
     "end_time": "2024-07-30T15:11:04.806708Z",
     "start_time": "2024-07-30T15:11:04.800376Z"
    }
   },
   "cell_type": "code",
   "source": "results.F",
   "id": "4de6cb0f6de83bf1",
   "execution_count": 9,
   "outputs": []
  },
  {
   "metadata": {},
   "cell_type": "markdown",
   "source": "",
   "id": "710d4e8caacaede6"
  },
  {
   "metadata": {},
   "cell_type": "markdown",
   "source": "Algorithm object which has been iterated over (e.g. NSGA2 from Pymoo)",
   "id": "69e1a969d37ad4b4"
  },
  {
   "metadata": {
    "ExecuteTime": {
     "end_time": "2024-07-30T15:11:04.811619Z",
     "start_time": "2024-07-30T15:11:04.806708Z"
    }
   },
   "cell_type": "code",
   "source": "results.algorithm",
   "id": "3e671c5488845def",
   "execution_count": 10,
   "outputs": []
  },
  {
   "metadata": {},
   "cell_type": "markdown",
   "source": "Archive population (populations of each generation)",
   "id": "13726358ae4823"
  },
  {
   "metadata": {
    "ExecuteTime": {
     "end_time": "2024-07-30T15:11:04.817771Z",
     "start_time": "2024-07-30T15:11:04.811619Z"
    }
   },
   "cell_type": "code",
   "source": [
    "results.archive.get(\"X\")\n",
    "# results.archive.get(\"F\")"
   ],
   "id": "5ad4874a58689d67",
   "execution_count": 11,
   "outputs": []
  },
  {
   "metadata": {},
   "cell_type": "markdown",
   "source": "The best solutions as a Population object",
   "id": "66da8e85369c354b"
  },
  {
   "metadata": {
    "ExecuteTime": {
     "end_time": "2024-07-30T15:11:04.822320Z",
     "start_time": "2024-07-30T15:11:04.817771Z"
    }
   },
   "cell_type": "code",
   "source": "results.opt",
   "id": "9d967eb629690c05",
   "execution_count": 12,
   "outputs": []
  },
  {
   "metadata": {},
   "cell_type": "markdown",
   "source": "Name of the objectives that are minimized",
   "id": "d2f6594519320f89"
  },
  {
   "metadata": {
    "ExecuteTime": {
     "end_time": "2024-07-30T15:11:04.827594Z",
     "start_time": "2024-07-30T15:11:04.822320Z"
    }
   },
   "cell_type": "code",
   "source": "results.objectives_name",
   "id": "87bfe9a03610a89b",
   "execution_count": 13,
   "outputs": []
  },
  {
   "metadata": {},
   "cell_type": "markdown",
   "source": "Display help",
   "id": "77f0bde720a6e58a"
  },
  {
   "metadata": {
    "ExecuteTime": {
     "end_time": "2024-07-30T15:11:04.834693Z",
     "start_time": "2024-07-30T15:11:04.828732Z"
    }
   },
   "cell_type": "code",
   "source": [
    "runner = MoFGBMLBasicMain(HomoTriangleKnowledgeFactory_2_3_4_5)\n",
    "results = runner.main([\"--help\"])"
   ],
   "id": "f07a12adb77ef5b2",
   "execution_count": 14,
   "outputs": []
  }
 ],
 "metadata": {
  "kernelspec": {
   "display_name": "Python 3",
   "language": "python",
   "name": "python3"
  },
  "language_info": {
   "codemirror_mode": {
    "name": "ipython",
    "version": 2
   },
   "file_extension": ".py",
   "mimetype": "text/x-python",
   "name": "python",
   "nbconvert_exporter": "python",
   "pygments_lexer": "ipython2",
   "version": "2.7.6"
  }
 },
 "nbformat": 4,
 "nbformat_minor": 5
}
