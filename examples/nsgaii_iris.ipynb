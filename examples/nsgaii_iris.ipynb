{
 "cells": [
  {
   "cell_type": "markdown",
   "id": "aaa4b8ca7b27140c",
   "metadata": {},
   "source": [
    "Display Help"
   ]
  },
  {
   "cell_type": "code",
   "execution_count": 1,
   "id": "d6274db712bae399",
   "metadata": {
    "ExecuteTime": {
     "end_time": "2024-08-21T13:35:55.568395Z",
     "start_time": "2024-08-21T13:35:54.698595Z"
    }
   },
   "outputs": [],
   "source": [
    "from mofgbmlpy.fuzzy.knowledge.factory.homo_triangle_knowledge_factory_5 import HomoTriangleKnowledgeFactory_5\n",
    "from mofgbmlpy.main.moead.mofgbml_moead_main import MoFGBMLMOEADMain\n",
    "from mofgbmlpy.fuzzy.knowledge.factory.homo_triangle_knowledge_factory_2_3_4_5 import HomoTriangleKnowledgeFactory_2_3_4_5\n",
    "from mofgbmlpy.main.nsgaii.mofgbml_nsgaii_main import MoFGBMLNSGAIIMain\n",
    "\n",
    "# runner = MoFGBMLNSGAIIMain(HomoTriangleKnowledgeFactory_2_3_4_5)\n",
    "# results = runner.main([\"--help\"])"
   ]
  },
  {
   "cell_type": "code",
   "execution_count": 2,
   "id": "a7aa0130fdb8c225",
   "metadata": {},
   "outputs": [],
   "source": [
    "%matplotlib inline"
   ]
  },
  {
   "cell_type": "markdown",
   "id": "cd830c4887aae02e",
   "metadata": {
    "ExecuteTime": {
     "end_time": "2024-08-21T13:36:20.934031Z",
     "start_time": "2024-08-21T13:36:20.923687Z"
    }
   },
   "source": [
    "Run MoFGBMLPy"
   ]
  },
  {
   "cell_type": "code",
   "execution_count": 6,
   "id": "initial_id",
   "metadata": {},
   "outputs": [
    {
     "name": "stdout",
     "output_type": "stream",
     "text": [
      "==========================================================\n",
      "n_gen  |  n_eval  | n_nds  |      eps      |   indicator  \n",
      "==========================================================\n",
      "     1 |       60 |      4 |             - |             -\n",
      "     2 |      120 |      5 |  0.6250000000 |         ideal\n",
      "     3 |      180 |      8 |  0.2058823529 |         ideal\n",
      "     4 |      240 |     19 |  0.0351673049 |             f\n",
      "     5 |      300 |     26 |  0.000000E+00 |             f\n",
      "     6 |      360 |     36 |  0.000000E+00 |             f\n",
      "     7 |      420 |     57 |  0.000000E+00 |             f\n",
      "     8 |      480 |     60 |  0.0044185677 |             f\n",
      "     9 |      540 |     60 |  0.000000E+00 |             f\n",
      "    10 |      600 |     60 |  0.000000E+00 |             f\n",
      "    11 |      660 |     60 |  0.000000E+00 |             f\n",
      "    12 |      720 |     60 |  0.0061751953 |             f\n",
      "    13 |      780 |     60 |  0.000000E+00 |             f\n",
      "    14 |      840 |     60 |  0.000000E+00 |             f\n",
      "    15 |      900 |     60 |  0.000000E+00 |             f\n",
      "    16 |      960 |     60 |  0.000000E+00 |             f\n",
      "    17 |     1020 |     60 |  0.000000E+00 |             f\n"
     ]
    },
    {
     "ename": "KeyboardInterrupt",
     "evalue": "",
     "output_type": "error",
     "traceback": [
      "\u001b[1;31m---------------------------------------------------------------------------\u001b[0m",
      "\u001b[1;31mKeyboardInterrupt\u001b[0m                         Traceback (most recent call last)",
      "Cell \u001b[1;32mIn[6], line 16\u001b[0m\n\u001b[0;32m      1\u001b[0m args \u001b[38;5;241m=\u001b[39m [\n\u001b[0;32m      2\u001b[0m     \u001b[38;5;124m\"\u001b[39m\u001b[38;5;124m--algorithm-id\u001b[39m\u001b[38;5;124m\"\u001b[39m, \u001b[38;5;124m\"\u001b[39m\u001b[38;5;124m1\u001b[39m\u001b[38;5;124m\"\u001b[39m,\n\u001b[0;32m      3\u001b[0m     \u001b[38;5;124m\"\u001b[39m\u001b[38;5;124m--experiment-id\u001b[39m\u001b[38;5;124m\"\u001b[39m, \u001b[38;5;124m\"\u001b[39m\u001b[38;5;124m2\u001b[39m\u001b[38;5;124m\"\u001b[39m,\n\u001b[1;32m   (...)\u001b[0m\n\u001b[0;32m     12\u001b[0m     \u001b[38;5;124m\"\u001b[39m\u001b[38;5;124m--verbose\u001b[39m\u001b[38;5;124m\"\u001b[39m,\n\u001b[0;32m     13\u001b[0m ]\n\u001b[0;32m     15\u001b[0m runner \u001b[38;5;241m=\u001b[39m MoFGBMLNSGAIIMain(HomoTriangleKnowledgeFactory_5)\n\u001b[1;32m---> 16\u001b[0m results \u001b[38;5;241m=\u001b[39m \u001b[43mrunner\u001b[49m\u001b[38;5;241;43m.\u001b[39;49m\u001b[43mmain\u001b[49m\u001b[43m(\u001b[49m\u001b[43margs\u001b[49m\u001b[43m)\u001b[49m\n",
      "File \u001b[1;32m~\\Documents\\MoFGBML_python\\MoFGBMLPy\\src\\mofgbmlpy\\main\\abstract_mofgbml_main.py:283\u001b[0m, in \u001b[0;36mAbstractMoFGBMLMain.main\u001b[1;34m(self, args, train, test)\u001b[0m\n\u001b[0;32m    279\u001b[0m \u001b[38;5;66;03m# TODO: print information\u001b[39;00m\n\u001b[0;32m    281\u001b[0m \u001b[38;5;28mself\u001b[39m\u001b[38;5;241m.\u001b[39mload_args(args, train, test)\n\u001b[1;32m--> 283\u001b[0m res \u001b[38;5;241m=\u001b[39m \u001b[38;5;28;43mself\u001b[39;49m\u001b[38;5;241;43m.\u001b[39;49m\u001b[43mrun\u001b[49m\u001b[43m(\u001b[49m\u001b[43m)\u001b[49m\n\u001b[0;32m    284\u001b[0m exec_time \u001b[38;5;241m=\u001b[39m res\u001b[38;5;241m.\u001b[39mexec_time\n\u001b[0;32m    286\u001b[0m \u001b[38;5;28;01mif\u001b[39;00m \u001b[38;5;28mself\u001b[39m\u001b[38;5;241m.\u001b[39m_mofgbml_args\u001b[38;5;241m.\u001b[39mget(\u001b[38;5;124m\"\u001b[39m\u001b[38;5;124mVERBOSE\u001b[39m\u001b[38;5;124m\"\u001b[39m):\n",
      "File \u001b[1;32m~\\Documents\\MoFGBML_python\\MoFGBMLPy\\src\\mofgbmlpy\\main\\nsgaii\\mofgbml_nsgaii_main.py:52\u001b[0m, in \u001b[0;36mMoFGBMLNSGAIIMain.run\u001b[1;34m(self)\u001b[0m\n\u001b[0;32m     38\u001b[0m \u001b[38;5;250m\u001b[39m\u001b[38;5;124;03m\"\"\"Run MoFGBML\u001b[39;00m\n\u001b[0;32m     39\u001b[0m \n\u001b[0;32m     40\u001b[0m \u001b[38;5;124;03mReturns:\u001b[39;00m\n\u001b[0;32m     41\u001b[0m \u001b[38;5;124;03m    pymoo.core.result.Result: Result of the run\u001b[39;00m\n\u001b[0;32m     42\u001b[0m \u001b[38;5;124;03m\"\"\"\u001b[39;00m\n\u001b[0;32m     43\u001b[0m algorithm \u001b[38;5;241m=\u001b[39m NSGA2(pop_size\u001b[38;5;241m=\u001b[39m\u001b[38;5;28mself\u001b[39m\u001b[38;5;241m.\u001b[39m_mofgbml_args\u001b[38;5;241m.\u001b[39mget(\u001b[38;5;124m\"\u001b[39m\u001b[38;5;124mPOPULATION_SIZE\u001b[39m\u001b[38;5;124m\"\u001b[39m),\n\u001b[0;32m     44\u001b[0m                   sampling\u001b[38;5;241m=\u001b[39mHybridGBMLSampling(\u001b[38;5;28mself\u001b[39m\u001b[38;5;241m.\u001b[39m_learner),\n\u001b[0;32m     45\u001b[0m                   crossover\u001b[38;5;241m=\u001b[39m\u001b[38;5;28mself\u001b[39m\u001b[38;5;241m.\u001b[39m_crossover,\n\u001b[1;32m   (...)\u001b[0m\n\u001b[0;32m     49\u001b[0m                   save_history\u001b[38;5;241m=\u001b[39m\u001b[38;5;28;01mTrue\u001b[39;00m,\n\u001b[0;32m     50\u001b[0m                   n_offsprings\u001b[38;5;241m=\u001b[39m\u001b[38;5;28mself\u001b[39m\u001b[38;5;241m.\u001b[39m_mofgbml_args\u001b[38;5;241m.\u001b[39mget(\u001b[38;5;124m\"\u001b[39m\u001b[38;5;124mOFFSPRING_POPULATION_SIZE\u001b[39m\u001b[38;5;124m\"\u001b[39m))\n\u001b[1;32m---> 52\u001b[0m res \u001b[38;5;241m=\u001b[39m \u001b[43mminimize\u001b[49m\u001b[43m(\u001b[49m\u001b[38;5;28;43mself\u001b[39;49m\u001b[38;5;241;43m.\u001b[39;49m\u001b[43m_problem\u001b[49m\u001b[43m,\u001b[49m\n\u001b[0;32m     53\u001b[0m \u001b[43m               \u001b[49m\u001b[43malgorithm\u001b[49m\u001b[43m,\u001b[49m\n\u001b[0;32m     54\u001b[0m \u001b[43m               \u001b[49m\u001b[43mtermination\u001b[49m\u001b[38;5;241;43m=\u001b[39;49m\u001b[38;5;28;43mself\u001b[39;49m\u001b[38;5;241;43m.\u001b[39;49m\u001b[43m_termination\u001b[49m\u001b[43m,\u001b[49m\n\u001b[0;32m     55\u001b[0m \u001b[43m               \u001b[49m\u001b[43mseed\u001b[49m\u001b[38;5;241;43m=\u001b[39;49m\u001b[38;5;28;43mself\u001b[39;49m\u001b[38;5;241;43m.\u001b[39;49m\u001b[43m_mofgbml_args\u001b[49m\u001b[38;5;241;43m.\u001b[39;49m\u001b[43mget\u001b[49m\u001b[43m(\u001b[49m\u001b[38;5;124;43m\"\u001b[39;49m\u001b[38;5;124;43mRAND_SEED\u001b[39;49m\u001b[38;5;124;43m\"\u001b[39;49m\u001b[43m)\u001b[49m\u001b[43m,\u001b[49m\n\u001b[0;32m     56\u001b[0m \u001b[43m               \u001b[49m\u001b[43mverbose\u001b[49m\u001b[38;5;241;43m=\u001b[39;49m\u001b[38;5;28;43mself\u001b[39;49m\u001b[38;5;241;43m.\u001b[39;49m\u001b[43m_verbose\u001b[49m\u001b[43m)\u001b[49m\n\u001b[0;32m     57\u001b[0m \u001b[38;5;28;01mreturn\u001b[39;00m res\n",
      "File \u001b[1;32m~\\Documents\\MoFGBML_python\\MoFGBMLPy\\venv\\Lib\\site-packages\\pymoo\\optimize.py:67\u001b[0m, in \u001b[0;36mminimize\u001b[1;34m(problem, algorithm, termination, copy_algorithm, copy_termination, **kwargs)\u001b[0m\n\u001b[0;32m     64\u001b[0m     algorithm\u001b[38;5;241m.\u001b[39msetup(problem, \u001b[38;5;241m*\u001b[39m\u001b[38;5;241m*\u001b[39mkwargs)\n\u001b[0;32m     66\u001b[0m \u001b[38;5;66;03m# actually execute the algorithm\u001b[39;00m\n\u001b[1;32m---> 67\u001b[0m res \u001b[38;5;241m=\u001b[39m \u001b[43malgorithm\u001b[49m\u001b[38;5;241;43m.\u001b[39;49m\u001b[43mrun\u001b[49m\u001b[43m(\u001b[49m\u001b[43m)\u001b[49m\n\u001b[0;32m     69\u001b[0m \u001b[38;5;66;03m# store the deep copied algorithm in the result object\u001b[39;00m\n\u001b[0;32m     70\u001b[0m res\u001b[38;5;241m.\u001b[39malgorithm \u001b[38;5;241m=\u001b[39m algorithm\n",
      "File \u001b[1;32m~\\Documents\\MoFGBML_python\\MoFGBMLPy\\venv\\Lib\\site-packages\\pymoo\\core\\algorithm.py:138\u001b[0m, in \u001b[0;36mAlgorithm.run\u001b[1;34m(self)\u001b[0m\n\u001b[0;32m    136\u001b[0m \u001b[38;5;28;01mdef\u001b[39;00m \u001b[38;5;21mrun\u001b[39m(\u001b[38;5;28mself\u001b[39m):\n\u001b[0;32m    137\u001b[0m     \u001b[38;5;28;01mwhile\u001b[39;00m \u001b[38;5;28mself\u001b[39m\u001b[38;5;241m.\u001b[39mhas_next():\n\u001b[1;32m--> 138\u001b[0m         \u001b[38;5;28;43mself\u001b[39;49m\u001b[38;5;241;43m.\u001b[39;49m\u001b[43mnext\u001b[49m\u001b[43m(\u001b[49m\u001b[43m)\u001b[49m\n\u001b[0;32m    139\u001b[0m     \u001b[38;5;28;01mreturn\u001b[39;00m \u001b[38;5;28mself\u001b[39m\u001b[38;5;241m.\u001b[39mresult()\n",
      "File \u001b[1;32m~\\Documents\\MoFGBML_python\\MoFGBMLPy\\venv\\Lib\\site-packages\\pymoo\\core\\algorithm.py:154\u001b[0m, in \u001b[0;36mAlgorithm.next\u001b[1;34m(self)\u001b[0m\n\u001b[0;32m    151\u001b[0m \u001b[38;5;28;01mdef\u001b[39;00m \u001b[38;5;21mnext\u001b[39m(\u001b[38;5;28mself\u001b[39m):\n\u001b[0;32m    152\u001b[0m \n\u001b[0;32m    153\u001b[0m     \u001b[38;5;66;03m# get the infill solutions\u001b[39;00m\n\u001b[1;32m--> 154\u001b[0m     infills \u001b[38;5;241m=\u001b[39m \u001b[38;5;28;43mself\u001b[39;49m\u001b[38;5;241;43m.\u001b[39;49m\u001b[43minfill\u001b[49m\u001b[43m(\u001b[49m\u001b[43m)\u001b[49m\n\u001b[0;32m    156\u001b[0m     \u001b[38;5;66;03m# call the advance with them after evaluation\u001b[39;00m\n\u001b[0;32m    157\u001b[0m     \u001b[38;5;28;01mif\u001b[39;00m infills \u001b[38;5;129;01mis\u001b[39;00m \u001b[38;5;129;01mnot\u001b[39;00m \u001b[38;5;28;01mNone\u001b[39;00m:\n",
      "File \u001b[1;32m~\\Documents\\MoFGBML_python\\MoFGBMLPy\\venv\\Lib\\site-packages\\pymoo\\core\\algorithm.py:190\u001b[0m, in \u001b[0;36mAlgorithm.infill\u001b[1;34m(self)\u001b[0m\n\u001b[0;32m    186\u001b[0m     infills \u001b[38;5;241m=\u001b[39m \u001b[38;5;28mself\u001b[39m\u001b[38;5;241m.\u001b[39m_initialize_infill()\n\u001b[0;32m    188\u001b[0m \u001b[38;5;28;01melse\u001b[39;00m:\n\u001b[0;32m    189\u001b[0m     \u001b[38;5;66;03m# request the infill solutions if the algorithm has implemented it\u001b[39;00m\n\u001b[1;32m--> 190\u001b[0m     infills \u001b[38;5;241m=\u001b[39m \u001b[38;5;28;43mself\u001b[39;49m\u001b[38;5;241;43m.\u001b[39;49m\u001b[43m_infill\u001b[49m\u001b[43m(\u001b[49m\u001b[43m)\u001b[49m\n\u001b[0;32m    192\u001b[0m \u001b[38;5;66;03m# set the current generation to the offsprings\u001b[39;00m\n\u001b[0;32m    193\u001b[0m \u001b[38;5;28;01mif\u001b[39;00m infills \u001b[38;5;129;01mis\u001b[39;00m \u001b[38;5;129;01mnot\u001b[39;00m \u001b[38;5;28;01mNone\u001b[39;00m:\n",
      "File \u001b[1;32m~\\Documents\\MoFGBML_python\\MoFGBMLPy\\venv\\Lib\\site-packages\\pymoo\\algorithms\\base\\genetic.py:85\u001b[0m, in \u001b[0;36mGeneticAlgorithm._infill\u001b[1;34m(self)\u001b[0m\n\u001b[0;32m     82\u001b[0m \u001b[38;5;28;01mdef\u001b[39;00m \u001b[38;5;21m_infill\u001b[39m(\u001b[38;5;28mself\u001b[39m):\n\u001b[0;32m     83\u001b[0m \n\u001b[0;32m     84\u001b[0m     \u001b[38;5;66;03m# do the mating using the current population\u001b[39;00m\n\u001b[1;32m---> 85\u001b[0m     off \u001b[38;5;241m=\u001b[39m \u001b[38;5;28;43mself\u001b[39;49m\u001b[38;5;241;43m.\u001b[39;49m\u001b[43mmating\u001b[49m\u001b[38;5;241;43m.\u001b[39;49m\u001b[43mdo\u001b[49m\u001b[43m(\u001b[49m\u001b[38;5;28;43mself\u001b[39;49m\u001b[38;5;241;43m.\u001b[39;49m\u001b[43mproblem\u001b[49m\u001b[43m,\u001b[49m\u001b[43m \u001b[49m\u001b[38;5;28;43mself\u001b[39;49m\u001b[38;5;241;43m.\u001b[39;49m\u001b[43mpop\u001b[49m\u001b[43m,\u001b[49m\u001b[43m \u001b[49m\u001b[38;5;28;43mself\u001b[39;49m\u001b[38;5;241;43m.\u001b[39;49m\u001b[43mn_offsprings\u001b[49m\u001b[43m,\u001b[49m\u001b[43m \u001b[49m\u001b[43malgorithm\u001b[49m\u001b[38;5;241;43m=\u001b[39;49m\u001b[38;5;28;43mself\u001b[39;49m\u001b[43m)\u001b[49m\n\u001b[0;32m     87\u001b[0m     \u001b[38;5;66;03m# if the mating could not generate any new offspring (duplicate elimination might make that happen)\u001b[39;00m\n\u001b[0;32m     88\u001b[0m     \u001b[38;5;28;01mif\u001b[39;00m \u001b[38;5;28mlen\u001b[39m(off) \u001b[38;5;241m==\u001b[39m \u001b[38;5;241m0\u001b[39m:\n",
      "File \u001b[1;32m~\\Documents\\MoFGBML_python\\MoFGBMLPy\\venv\\Lib\\site-packages\\pymoo\\core\\infill.py:38\u001b[0m, in \u001b[0;36mInfillCriterion.do\u001b[1;34m(self, problem, pop, n_offsprings, **kwargs)\u001b[0m\n\u001b[0;32m     35\u001b[0m n_remaining \u001b[38;5;241m=\u001b[39m n_offsprings \u001b[38;5;241m-\u001b[39m \u001b[38;5;28mlen\u001b[39m(off)\n\u001b[0;32m     37\u001b[0m \u001b[38;5;66;03m# do the mating\u001b[39;00m\n\u001b[1;32m---> 38\u001b[0m _off \u001b[38;5;241m=\u001b[39m \u001b[38;5;28;43mself\u001b[39;49m\u001b[38;5;241;43m.\u001b[39;49m\u001b[43m_do\u001b[49m\u001b[43m(\u001b[49m\u001b[43mproblem\u001b[49m\u001b[43m,\u001b[49m\u001b[43m \u001b[49m\u001b[43mpop\u001b[49m\u001b[43m,\u001b[49m\u001b[43m \u001b[49m\u001b[43mn_remaining\u001b[49m\u001b[43m,\u001b[49m\u001b[43m \u001b[49m\u001b[38;5;241;43m*\u001b[39;49m\u001b[38;5;241;43m*\u001b[39;49m\u001b[43mkwargs\u001b[49m\u001b[43m)\u001b[49m\n\u001b[0;32m     40\u001b[0m \u001b[38;5;66;03m# repair the individuals if necessary - disabled if repair is NoRepair\u001b[39;00m\n\u001b[0;32m     41\u001b[0m _off \u001b[38;5;241m=\u001b[39m \u001b[38;5;28mself\u001b[39m\u001b[38;5;241m.\u001b[39mrepair(problem, _off, \u001b[38;5;241m*\u001b[39m\u001b[38;5;241m*\u001b[39mkwargs)\n",
      "File \u001b[1;32m~\\Documents\\MoFGBML_python\\MoFGBMLPy\\venv\\Lib\\site-packages\\pymoo\\core\\mating.py:34\u001b[0m, in \u001b[0;36mMating._do\u001b[1;34m(self, problem, pop, n_offsprings, parents, **kwargs)\u001b[0m\n\u001b[0;32m     31\u001b[0m off \u001b[38;5;241m=\u001b[39m \u001b[38;5;28mself\u001b[39m\u001b[38;5;241m.\u001b[39mcrossover(problem, parents, \u001b[38;5;241m*\u001b[39m\u001b[38;5;241m*\u001b[39mkwargs)\n\u001b[0;32m     33\u001b[0m \u001b[38;5;66;03m# do the mutation on the offsprings created through crossover\u001b[39;00m\n\u001b[1;32m---> 34\u001b[0m off \u001b[38;5;241m=\u001b[39m \u001b[38;5;28;43mself\u001b[39;49m\u001b[38;5;241;43m.\u001b[39;49m\u001b[43mmutation\u001b[49m\u001b[43m(\u001b[49m\u001b[43mproblem\u001b[49m\u001b[43m,\u001b[49m\u001b[43m \u001b[49m\u001b[43moff\u001b[49m\u001b[43m,\u001b[49m\u001b[43m \u001b[49m\u001b[38;5;241;43m*\u001b[39;49m\u001b[38;5;241;43m*\u001b[39;49m\u001b[43mkwargs\u001b[49m\u001b[43m)\u001b[49m\n\u001b[0;32m     36\u001b[0m \u001b[38;5;28;01mreturn\u001b[39;00m off\n",
      "File \u001b[1;32m~\\Documents\\MoFGBML_python\\MoFGBMLPy\\venv\\Lib\\site-packages\\pymoo\\core\\operator.py:27\u001b[0m, in \u001b[0;36mOperator.__call__\u001b[1;34m(self, problem, elem, to_numpy, *args, **kwargs)\u001b[0m\n\u001b[0;32m     26\u001b[0m \u001b[38;5;28;01mdef\u001b[39;00m \u001b[38;5;21m__call__\u001b[39m(\u001b[38;5;28mself\u001b[39m, problem, elem, \u001b[38;5;241m*\u001b[39margs, to_numpy\u001b[38;5;241m=\u001b[39m\u001b[38;5;28;01mFalse\u001b[39;00m, \u001b[38;5;241m*\u001b[39m\u001b[38;5;241m*\u001b[39mkwargs):\n\u001b[1;32m---> 27\u001b[0m     out \u001b[38;5;241m=\u001b[39m \u001b[38;5;28;43mself\u001b[39;49m\u001b[38;5;241;43m.\u001b[39;49m\u001b[43mdo\u001b[49m\u001b[43m(\u001b[49m\u001b[43mproblem\u001b[49m\u001b[43m,\u001b[49m\u001b[43m \u001b[49m\u001b[43melem\u001b[49m\u001b[43m,\u001b[49m\u001b[43m \u001b[49m\u001b[38;5;241;43m*\u001b[39;49m\u001b[43margs\u001b[49m\u001b[43m,\u001b[49m\u001b[43m \u001b[49m\u001b[38;5;241;43m*\u001b[39;49m\u001b[38;5;241;43m*\u001b[39;49m\u001b[43mkwargs\u001b[49m\u001b[43m)\u001b[49m\n\u001b[0;32m     29\u001b[0m     \u001b[38;5;28;01mif\u001b[39;00m \u001b[38;5;28mself\u001b[39m\u001b[38;5;241m.\u001b[39mvtype \u001b[38;5;129;01mis\u001b[39;00m \u001b[38;5;129;01mnot\u001b[39;00m \u001b[38;5;28;01mNone\u001b[39;00m:\n\u001b[0;32m     30\u001b[0m         \u001b[38;5;28;01mfor\u001b[39;00m ind \u001b[38;5;129;01min\u001b[39;00m out:\n",
      "File \u001b[1;32m~\\Documents\\MoFGBML_python\\MoFGBMLPy\\venv\\Lib\\site-packages\\pymoo\\core\\mutation.py:28\u001b[0m, in \u001b[0;36mMutation.do\u001b[1;34m(self, problem, pop, inplace, **kwargs)\u001b[0m\n\u001b[0;32m     25\u001b[0m X \u001b[38;5;241m=\u001b[39m pop\u001b[38;5;241m.\u001b[39mget(\u001b[38;5;124m\"\u001b[39m\u001b[38;5;124mX\u001b[39m\u001b[38;5;124m\"\u001b[39m)\n\u001b[0;32m     27\u001b[0m \u001b[38;5;66;03m# retrieve the mutation variables\u001b[39;00m\n\u001b[1;32m---> 28\u001b[0m Xp \u001b[38;5;241m=\u001b[39m \u001b[38;5;28;43mself\u001b[39;49m\u001b[38;5;241;43m.\u001b[39;49m\u001b[43m_do\u001b[49m\u001b[43m(\u001b[49m\u001b[43mproblem\u001b[49m\u001b[43m,\u001b[49m\u001b[43m \u001b[49m\u001b[43mX\u001b[49m\u001b[43m,\u001b[49m\u001b[43m \u001b[49m\u001b[38;5;241;43m*\u001b[39;49m\u001b[38;5;241;43m*\u001b[39;49m\u001b[43mkwargs\u001b[49m\u001b[43m)\u001b[49m\n\u001b[0;32m     30\u001b[0m \u001b[38;5;66;03m# the likelihood for a mutation on the individuals\u001b[39;00m\n\u001b[0;32m     31\u001b[0m prob \u001b[38;5;241m=\u001b[39m get(\u001b[38;5;28mself\u001b[39m\u001b[38;5;241m.\u001b[39mprob, size\u001b[38;5;241m=\u001b[39mn_mut)\n",
      "File \u001b[1;32m~\\Documents\\MoFGBML_python\\MoFGBMLPy\\src\\mofgbmlpy\\gbml\\operator\\mutation\\pittsburgh_mutation.pyx:77\u001b[0m, in \u001b[0;36mmofgbmlpy.gbml.operator.mutation.pittsburgh_mutation.PittsburghMutation._do\u001b[1;34m()\u001b[0m\n",
      "File \u001b[1;32m~\\AppData\\Local\\Programs\\Python\\Python311\\Lib\\copy.py:128\u001b[0m, in \u001b[0;36mdeepcopy\u001b[1;34m(x, memo, _nil)\u001b[0m\n\u001b[0;32m    124\u001b[0m     d[PyStringMap] \u001b[38;5;241m=\u001b[39m PyStringMap\u001b[38;5;241m.\u001b[39mcopy\n\u001b[0;32m    126\u001b[0m \u001b[38;5;28;01mdel\u001b[39;00m d, t\n\u001b[1;32m--> 128\u001b[0m \u001b[38;5;28;01mdef\u001b[39;00m \u001b[38;5;21mdeepcopy\u001b[39m(x, memo\u001b[38;5;241m=\u001b[39m\u001b[38;5;28;01mNone\u001b[39;00m, _nil\u001b[38;5;241m=\u001b[39m[]):\n\u001b[0;32m    129\u001b[0m \u001b[38;5;250m    \u001b[39m\u001b[38;5;124;03m\"\"\"Deep copy operation on arbitrary Python objects.\u001b[39;00m\n\u001b[0;32m    130\u001b[0m \n\u001b[0;32m    131\u001b[0m \u001b[38;5;124;03m    See the module's __doc__ string for more info.\u001b[39;00m\n\u001b[0;32m    132\u001b[0m \u001b[38;5;124;03m    \"\"\"\u001b[39;00m\n\u001b[0;32m    134\u001b[0m     \u001b[38;5;28;01mif\u001b[39;00m memo \u001b[38;5;129;01mis\u001b[39;00m \u001b[38;5;28;01mNone\u001b[39;00m:\n",
      "\u001b[1;31mKeyboardInterrupt\u001b[0m: "
     ]
    }
   ],
   "source": [
    "args = [\n",
    "    \"--algorithm-id\", \"1\",\n",
    "    \"--experiment-id\", \"2\",\n",
    "    \"--data-name\", \"pima\",\n",
    "    \"--train-file\", \"../dataset/pima/a0_0_pima-10tra.dat\",\n",
    "    \"--test-file\", \"../dataset/pima/a0_0_pima-10tst.dat\",\n",
    "    \"--terminate-evaluation\", \"10000\",\n",
    "    \"--objectives\", \"num-rules\", \"error-rate\",\n",
    "    # \"--crossover-type\", \"pittsburgh-crossover\",\n",
    "    # \"--antecedent-factory\", \"all-combination-antecedent-factory\",\n",
    "    \"--no-output-files\",\n",
    "    \"--verbose\",\n",
    "]\n",
    "\n",
    "runner = MoFGBMLNSGAIIMain(HomoTriangleKnowledgeFactory_5)\n",
    "results = runner.main(args)"
   ]
  },
  {
   "cell_type": "code",
   "execution_count": null,
   "id": "86c2a4fd2124129c",
   "metadata": {},
   "outputs": [],
   "source": [
    "min_length = results.opt.get(\"X\")[0, 0].get_var(0).get_rule().get_length()\n",
    "max_length = min_length\n",
    "for sol in results.opt.get(\"X\")[:, 0]:\n",
    "    for var in sol.get_vars():\n",
    "        length = var.get_rule().get_length()\n",
    "        if length < min_length:\n",
    "            min_length = length\n",
    "        elif length > max_length:\n",
    "            max_length = length\n",
    "print(min_length, max_length) "
   ]
  },
  {
   "cell_type": "markdown",
   "id": "e0be31c241cbe579",
   "metadata": {},
   "source": [
    "Visualization"
   ]
  },
  {
   "cell_type": "code",
   "execution_count": null,
   "id": "7254819a01833ee1",
   "metadata": {},
   "outputs": [],
   "source": [
    "i = 1\n",
    "for var in results.opt.get(\"X\")[0, 0].get_vars():\n",
    "    print(f\"{i}:\\t{var.get_rule().get_linguistic_representation()}\")\n",
    "    i += 1"
   ]
  },
  {
   "cell_type": "code",
   "execution_count": null,
   "id": "b47d7d4d82d11533",
   "metadata": {},
   "outputs": [],
   "source": [
    "plot = runner.get_pareto_front_plot(results.opt)\n",
    "plot.show()\n",
    "# plot.ax.set_ylim([0,1])\n",
    "plot.ax.grid(visible=True)"
   ]
  },
  {
   "cell_type": "code",
   "execution_count": null,
   "id": "c8f30f4c1d21dad3",
   "metadata": {},
   "outputs": [],
   "source": [
    "results.opt.get('X')[1,0]"
   ]
  },
  {
   "cell_type": "code",
   "execution_count": null,
   "id": "a4ee8724-2328-40f7-93a4-182bfc611e46",
   "metadata": {},
   "outputs": [],
   "source": [
    "runner.plot_line_interpretability_error_rate_tradeoff(results.opt.get('X')[:, 0], title=\"MoFGBMLPy on Pima with NSGA-II\", xlim=[0,51])\n"
   ]
  },
  {
   "cell_type": "code",
   "execution_count": null,
   "id": "e609a47aaa7a7c76",
   "metadata": {},
   "outputs": [],
   "source": [
    "# runner.plot_line_interpretability_error_rate_tradeoff(results.opt.get('X')[:, 0], title=\"MoFGBMLPy on Iris with NSGA-II\", xlim=[0,16])\n",
    "# runner.plot_line_interpretability_error_rate_tradeoff(results.opt.get('X')[:, 0], title=\"MoFGBMLPy on Iris with MOEA/D\", xlim=[0,10])\n",
    "runner.plot_fuzzy_variables()"
   ]
  },
  {
   "cell_type": "code",
   "execution_count": null,
   "id": "a412c5a9b33e4dc2",
   "metadata": {},
   "outputs": [],
   "source": [
    "runner.save_video(results.history, \"nsgaii_iris.mp4\")"
   ]
  },
  {
   "cell_type": "markdown",
   "id": "7c329c0f54df95ec",
   "metadata": {},
   "source": [
    "If the video doesn't play you can just get it in examples/ga.mp4"
   ]
  },
  {
   "cell_type": "code",
   "execution_count": null,
   "id": "bff7641da5e5fff4",
   "metadata": {},
   "outputs": [],
   "source": [
    "from IPython.display import Video\n",
    "Video('./nsgaii_iris.mp4')"
   ]
  },
  {
   "cell_type": "code",
   "execution_count": null,
   "id": "e3250a48cf4b3041",
   "metadata": {},
   "outputs": [],
   "source": []
  },
  {
   "cell_type": "markdown",
   "id": "f8dc617fb586e72",
   "metadata": {},
   "source": [
    "The time required to run the algorithm\n"
   ]
  },
  {
   "cell_type": "code",
   "execution_count": null,
   "id": "eab7fef98d755b50",
   "metadata": {},
   "outputs": [],
   "source": [
    "results.exec_time"
   ]
  },
  {
   "cell_type": "markdown",
   "id": "5305ba3ad4c4997d",
   "metadata": {},
   "source": []
  },
  {
   "cell_type": "markdown",
   "id": "7f4b8a968f186064",
   "metadata": {},
   "source": [
    "The final Population (Pymoo individual objects)"
   ]
  },
  {
   "cell_type": "code",
   "execution_count": null,
   "id": "3009188a7247865f",
   "metadata": {},
   "outputs": [],
   "source": [
    "results.pop"
   ]
  },
  {
   "cell_type": "markdown",
   "id": "4f4cb0d1c32fb9a8",
   "metadata": {},
   "source": []
  },
  {
   "cell_type": "markdown",
   "id": "a9977f68564eff93",
   "metadata": {},
   "source": [
    "The best population design space values (here there is one variable which is a Pittsburgh solution)"
   ]
  },
  {
   "cell_type": "code",
   "execution_count": null,
   "id": "613338acc731084c",
   "metadata": {},
   "outputs": [],
   "source": [
    "results.X"
   ]
  },
  {
   "cell_type": "markdown",
   "id": "ef5e7a0c8c2b080e",
   "metadata": {},
   "source": [
    "The best population objective spaces values"
   ]
  },
  {
   "cell_type": "code",
   "execution_count": null,
   "id": "4de6cb0f6de83bf1",
   "metadata": {},
   "outputs": [],
   "source": [
    "results.F"
   ]
  },
  {
   "cell_type": "markdown",
   "id": "710d4e8caacaede6",
   "metadata": {},
   "source": []
  },
  {
   "cell_type": "markdown",
   "id": "69e1a969d37ad4b4",
   "metadata": {},
   "source": [
    "Algorithm object which has been iterated over (e.g. NSGA2 from Pymoo)"
   ]
  },
  {
   "cell_type": "code",
   "execution_count": null,
   "id": "3e671c5488845def",
   "metadata": {},
   "outputs": [],
   "source": [
    "results.algorithm"
   ]
  },
  {
   "cell_type": "markdown",
   "id": "13726358ae4823",
   "metadata": {},
   "source": [
    "Archive population (populations of each generation)"
   ]
  },
  {
   "cell_type": "code",
   "execution_count": null,
   "id": "5ad4874a58689d67",
   "metadata": {},
   "outputs": [],
   "source": [
    "results.archive.get(\"X\")\n",
    "# results.archive.get(\"F\")"
   ]
  },
  {
   "cell_type": "markdown",
   "id": "66da8e85369c354b",
   "metadata": {},
   "source": [
    "The best solutions as a Population object"
   ]
  },
  {
   "cell_type": "code",
   "execution_count": null,
   "id": "9d967eb629690c05",
   "metadata": {},
   "outputs": [],
   "source": [
    "results.opt"
   ]
  },
  {
   "cell_type": "markdown",
   "id": "d2f6594519320f89",
   "metadata": {},
   "source": [
    "Name of the objectives that are minimized"
   ]
  },
  {
   "cell_type": "code",
   "execution_count": null,
   "id": "87bfe9a03610a89b",
   "metadata": {},
   "outputs": [],
   "source": [
    "results.objectives_name"
   ]
  }
 ],
 "metadata": {
  "kernelspec": {
   "display_name": "Python 3 (ipykernel)",
   "language": "python",
   "name": "python3"
  },
  "language_info": {
   "codemirror_mode": {
    "name": "ipython",
    "version": 3
   },
   "file_extension": ".py",
   "mimetype": "text/x-python",
   "name": "python",
   "nbconvert_exporter": "python",
   "pygments_lexer": "ipython3",
   "version": "3.11.8"
  }
 },
 "nbformat": 4,
 "nbformat_minor": 5
}
