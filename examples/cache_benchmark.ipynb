{
 "cells": [
  {
   "cell_type": "code",
   "id": "initial_id",
   "metadata": {
    "collapsed": true,
    "ExecuteTime": {
     "end_time": "2024-08-01T14:57:34.149325Z",
     "start_time": "2024-08-01T14:56:17.023874Z"
    }
   },
   "source": [
    "import numpy as np\n",
    "from mofgbmlpy.fuzzy.knowledge.factory.homo_triangle_knowledge_factory_2_3_4_5 import HomoTriangleKnowledgeFactory_2_3_4_5\n",
    "from mofgbmlpy.main.nsgaii.mofgbml_basic_main import MoFGBMLNSGAIIMain\n",
    "import tracemalloc\n",
    "\n",
    "cache_sizes = [0, 1000, 1000, 10000, 100000]\n",
    "# cache_sizes = [100]\n",
    "results = np.empty(len(cache_sizes), object)\n",
    "ram_usage = np.empty(len(cache_sizes), object)\n",
    "for i in range(len(cache_sizes)):\n",
    "    print(f\"#####\\n# Step {i+1} / {len(cache_sizes)}\")\n",
    "    args = [\n",
    "        # \"--data-name\", \"iris\",\n",
    "        \"--data-name\", \"pima\",\n",
    "        \"--algorithm-id\", \"1\",\n",
    "        \"--experiment-id\", \"2\",\n",
    "        # \"--train-file\", \"../dataset/iris/a0_0_iris-10tra.dat\",\n",
    "        # \"--test-file\", \"../dataset/iris/a0_0_iris-10tst.dat\",\n",
    "        \"--train-file\", \"../dataset/pima/a0_0_pima-10tra.dat\",\n",
    "        \"--test-file\", \"../dataset/pima/a0_0_pima-10tst.dat\",        \n",
    "        \"--terminate-generation\", \"100\",\n",
    "        \"--cache-size\", f\"{cache_sizes[i]}\",\n",
    "        \"--objectives\", \"num-rules\", \"error-rate\",\n",
    "        # \"--crossover-type\", \"pittsburgh-crossover\",\n",
    "        # \"--antecedent-factory\", \"all-combination-antecedent-factory\",\n",
    "    ]\n",
    "    tracemalloc.start()\n",
    "\n",
    "    runner = MoFGBMLNSGAIIMain(HomoTriangleKnowledgeFactory_2_3_4_5)\n",
    "    \n",
    "    ram_usage[i] = tracemalloc.get_traced_memory()\n",
    "    tracemalloc.stop()\n",
    "    \n",
    "    results[i] = runner.main(args)"
   ],
   "execution_count": 1,
   "outputs": []
  },
  {
   "metadata": {},
   "cell_type": "markdown",
   "source": "Execution times:",
   "id": "2868bd51bbdb2f4a"
  },
  {
   "metadata": {
    "ExecuteTime": {
     "end_time": "2024-08-01T14:48:16.098490Z",
     "start_time": "2024-08-01T14:48:15.937044Z"
    }
   },
   "cell_type": "code",
   "source": [
    "import matplotlib.pyplot as plt\n",
    "\n",
    "ram_peak_usage_y_current = [r[0] for r in ram_usage]\n",
    "ram_peak_usage_y_peak = [r[1] for r in ram_usage]\n",
    "exec_time_y = [r.exec_time for r in results]\n",
    "\n",
    "plt.plot(cache_sizes, ram_peak_usage_y_current)\n",
    "plt.plot(cache_sizes, ram_peak_usage_y_peak)\n",
    "plt.title(\"RAM usage\")\n",
    "plt.show()\n",
    "plt.plot(cache_sizes, exec_time_y)\n",
    "plt.title(\"Execution time\")\n",
    "plt.show()\n"
   ],
   "id": "298df2f75e45979d",
   "execution_count": 2,
   "outputs": []
  },
  {
   "metadata": {},
   "cell_type": "markdown",
   "source": "Check hash function collisions",
   "id": "85059b5fd22832e8"
  },
  {
   "metadata": {},
   "cell_type": "code",
   "execution_count": 6,
   "source": [
    "for i in range(1, len(cache_sizes)):\n",
    "    if not np.array_equal(results[i-1].opt.get(\"X\"), results[i].opt.get(\"X\")):\n",
    "        print(f\"result {i-1} is not equal to result {i}\")"
   ],
   "id": "4a171ef6a472c9ae",
   "outputs": []
  },
  {
   "metadata": {
    "ExecuteTime": {
     "end_time": "2024-08-01T13:47:29.851554Z",
     "start_time": "2024-08-01T13:47:29.840749Z"
    }
   },
   "cell_type": "code",
   "source": [
    "arr1 = results[5].opt.get(\"X\")[:,0]\n",
    "arr2 = results[6].opt.get(\"X\")[:,0]\n",
    "\n",
    "for i in range(arr1.shape[0]):\n",
    "    if arr1[i] != arr2[i]:\n",
    "        print(\"diff solution\")\n",
    "        print(arr1[i])\n",
    "        print(arr2[i])\n",
    "        print(\"#####\")\n",
    "        for j in range(min(len(arr1[i].get_vars()), len(arr2[i].get_vars()))):\n",
    "            if arr1[i].get_vars()[j] != arr2[i].get_vars()[j]:\n",
    "                print(\"diff rules\")\n",
    "                print(arr1[i].get_vars()[j])\n",
    "                print(arr2[i].get_vars()[j])\n",
    "                print(\"#####\")\n",
    "                for k in range(min(len(arr1[i].get_vars()[j].get_vars()), len(arr2[i].get_vars()[j].get_vars()))):\n",
    "                    if arr1[i].get_vars()[j].get_vars()[k] != arr2[i].get_vars()[j].get_vars()[k]:\n",
    "                        print(\"diff antecedent\")\n",
    "        break"
   ],
   "id": "fe0c20252b2b9102",
   "execution_count": 7,
   "outputs": []
  },
  {
   "metadata": {
    "ExecuteTime": {
     "end_time": "2024-08-01T13:47:01.480652Z",
     "start_time": "2024-08-01T13:47:01.465536Z"
    }
   },
   "cell_type": "code",
   "source": "results[0].opt.get(\"X\")",
   "id": "73fa30c046ccef69",
   "execution_count": 5,
   "outputs": []
  },
  {
   "metadata": {},
   "cell_type": "code",
   "source": "results[1].opt.get(\"X\")",
   "id": "3a39ffef6b85ac40",
   "execution_count": null,
   "outputs": []
  },
  {
   "metadata": {},
   "cell_type": "code",
   "source": "",
   "id": "9c7775c137bfad5b",
   "execution_count": null,
   "outputs": []
  }
 ],
 "metadata": {
  "kernelspec": {
   "display_name": "Python 3",
   "language": "python",
   "name": "python3"
  },
  "language_info": {
   "codemirror_mode": {
    "name": "ipython",
    "version": 2
   },
   "file_extension": ".py",
   "mimetype": "text/x-python",
   "name": "python",
   "nbconvert_exporter": "python",
   "pygments_lexer": "ipython2",
   "version": "2.7.6"
  }
 },
 "nbformat": 4,
 "nbformat_minor": 5
}
