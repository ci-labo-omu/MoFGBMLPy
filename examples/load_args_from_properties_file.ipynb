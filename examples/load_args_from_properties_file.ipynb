{
 "cells": [
  {
   "metadata": {},
   "cell_type": "markdown",
   "source": [
    "You can use a consts.properties file to avoid typing all the parameters, it will be loaded by default if it exists.\n",
    "If it doesn't exist yet you can create it in the root directory of this project and copy the following content inside"
   ],
   "id": "630440458fceac69"
  },
  {
   "metadata": {},
   "cell_type": "markdown",
   "source": [
    "````properties\n",
    "# Experimental Settings **************\n",
    "\tPOPULATION_SIZE = 60\n",
    "\tOFFSPRING_POPULATION_SIZE = 60\n",
    "\tTERMINATE_GENERATION = 100\n",
    "\n",
    "\tRAND_SEED = 2020\n",
    "\n",
    "# Fuzzy Classifier *******************\n",
    "\tIS_PROBABILITY_DONT_CARE = false\n",
    "\tANTECEDENT_LEN = 5\n",
    "\tDONT_CARE_RT = 0.8\n",
    "\tINITIATION_RULE_NUM = 30\n",
    "\tMAX_RULE_NUM = 60\n",
    "\tMIN_RULE_NUM = 1\n",
    "\n",
    "# FGBML *******************************\n",
    "\tMICHIGAN_OPE_RT = 0.5\n",
    "\tRULE_CHANGE_RT = 0.2\n",
    "\tMICHIGAN_CROSS_RT = 0.9\n",
    "\tPITTSBURGH_CROSS_RT = 0.9\n",
    "````"
   ],
   "id": "a4413b4c54d0095f"
  },
  {
   "cell_type": "code",
   "id": "initial_id",
   "metadata": {
    "collapsed": true,
    "ExecuteTime": {
     "end_time": "2024-07-31T04:38:20.941806Z",
     "start_time": "2024-07-31T04:38:16.286068Z"
    }
   },
   "source": [
    "from mofgbmlpy.fuzzy.knowledge.factory.homo_triangle_knowledge_factory_2_3_4_5 import HomoTriangleKnowledgeFactory_2_3_4_5\n",
    "from mofgbmlpy.main.basic.mofgbml_basic_main import MoFGBMLBasicMain\n",
    "\n",
    "args = [\n",
    "    \"--data-name\", \"iris\",\n",
    "    \"--algorithm-id\", \"1\",\n",
    "    \"--experiment-id\", \"2\",\n",
    "    \"--train-file\", \"../dataset/iris/a0_0_iris-10tra.dat\",\n",
    "    \"--test-file\", \"../dataset/iris/a0_0_iris-10tst.dat\",\n",
    "]\n",
    "\n",
    "runner = MoFGBMLBasicMain(HomoTriangleKnowledgeFactory_2_3_4_5)\n",
    "results = runner.main(args)"
   ],
   "execution_count": 1,
   "outputs": []
  }
 ],
 "metadata": {
  "kernelspec": {
   "display_name": "Python 3",
   "language": "python",
   "name": "python3"
  },
  "language_info": {
   "codemirror_mode": {
    "name": "ipython",
    "version": 2
   },
   "file_extension": ".py",
   "mimetype": "text/x-python",
   "name": "python",
   "nbconvert_exporter": "python",
   "pygments_lexer": "ipython2",
   "version": "2.7.6"
  }
 },
 "nbformat": 4,
 "nbformat_minor": 5
}
