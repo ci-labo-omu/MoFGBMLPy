{
 "cells": [
  {
   "metadata": {
    "ExecuteTime": {
     "end_time": "2024-07-30T15:11:24.850222Z",
     "start_time": "2024-07-30T15:11:24.844401Z"
    }
   },
   "cell_type": "code",
   "source": "%matplotlib inline",
   "id": "a7aa0130fdb8c225",
   "execution_count": 4,
   "outputs": []
  },
  {
   "cell_type": "code",
   "id": "initial_id",
   "metadata": {
    "collapsed": true,
    "ExecuteTime": {
     "end_time": "2024-07-31T04:37:59.860186Z",
     "start_time": "2024-07-31T04:37:59.336520Z"
    }
   },
   "source": [
    "from mofgbmlpy.fuzzy.knowledge.factory.homo_triangle_knowledge_factory_2_3_4_5 import HomoTriangleKnowledgeFactory_2_3_4_5\n",
    "from mofgbmlpy.main.moead.mofgbml_moead_main import MoFGBMLMOEADMain\n",
    "\n",
    "args = [\n",
    "    \"--data-name\", \"iris\",\n",
    "    \"--algorithm-id\", \"1\",\n",
    "    \"--experiment-id\", \"2\",\n",
    "    \"--train-file\", \"../dataset/iris/a0_0_iris-10tra.dat\",\n",
    "    \"--test-file\", \"../dataset/iris/a0_0_iris-10tst.dat\",\n",
    "    \"--terminate-generation\", \"50\",\n",
    "    \"--objectives\", \"num-rules\", \"error-rate\",\n",
    "    # \"--crossover-type\", \"pittsburgh-crossover\",\n",
    "    # \"--antecedent-factory\", \"all-combination-antecedent-factory\",\n",
    "    # \"--gen-plot\"\n",
    "]\n",
    "\n",
    "runner = MoFGBMLMOEADMain(HomoTriangleKnowledgeFactory_2_3_4_5)\n",
    "results = runner.main(args)"
   ],
   "execution_count": 1,
   "outputs": []
  },
  {
   "metadata": {},
   "cell_type": "markdown",
   "source": "Plot",
   "id": "e0be31c241cbe579"
  },
  {
   "metadata": {
    "ExecuteTime": {
     "end_time": "2024-07-30T15:11:27.493467Z",
     "start_time": "2024-07-30T15:11:27.393611Z"
    }
   },
   "cell_type": "code",
   "source": "runner.get_plot(results.opt).show()",
   "id": "5efcf343e3aed452",
   "execution_count": 6,
   "outputs": []
  },
  {
   "metadata": {
    "ExecuteTime": {
     "end_time": "2024-07-30T15:11:31.445915Z",
     "start_time": "2024-07-30T15:11:27.493467Z"
    }
   },
   "cell_type": "code",
   "source": "runner.save_video(results.archive, \"moead_iris.mp4\")",
   "id": "cf389495903d1844",
   "execution_count": 7,
   "outputs": []
  },
  {
   "metadata": {},
   "cell_type": "markdown",
   "source": "If the video doesn't play you can just get it in examples/ga.mp4",
   "id": "3feffbf1e82fc98e"
  },
  {
   "metadata": {
    "ExecuteTime": {
     "end_time": "2024-07-30T15:11:31.451358Z",
     "start_time": "2024-07-30T15:11:31.445915Z"
    }
   },
   "cell_type": "code",
   "source": [
    "from IPython.display import Video\n",
    "Video('./moead_iris.mp4')"
   ],
   "id": "ba343994a90e1179",
   "execution_count": 8,
   "outputs": []
  }
 ],
 "metadata": {
  "kernelspec": {
   "display_name": "Python 3",
   "language": "python",
   "name": "python3"
  },
  "language_info": {
   "codemirror_mode": {
    "name": "ipython",
    "version": 2
   },
   "file_extension": ".py",
   "mimetype": "text/x-python",
   "name": "python",
   "nbconvert_exporter": "python",
   "pygments_lexer": "ipython2",
   "version": "2.7.6"
  }
 },
 "nbformat": 4,
 "nbformat_minor": 5
}
