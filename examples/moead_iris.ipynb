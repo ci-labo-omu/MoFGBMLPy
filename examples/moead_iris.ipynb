{
 "cells": [
  {
   "metadata": {
    "ExecuteTime": {
     "end_time": "2024-07-30T15:11:24.850222Z",
     "start_time": "2024-07-30T15:11:24.844401Z"
    }
   },
   "cell_type": "code",
   "source": "%matplotlib inline",
   "id": "a7aa0130fdb8c225",
   "outputs": [],
   "execution_count": 4
  },
  {
   "cell_type": "code",
   "id": "initial_id",
   "metadata": {
    "collapsed": true,
    "ExecuteTime": {
     "end_time": "2024-07-30T15:11:27.393611Z",
     "start_time": "2024-07-30T15:11:24.850222Z"
    }
   },
   "source": [
    "from mofgbmlpy.fuzzy.knowledge.factory.homo_triangle_knowledge_factory_2_3_4_5 import HomoTriangleKnowledgeFactory_2_3_4_5\n",
    "from mofgbmlpy.main.basic.mofgbml_basic_main import MoFGBMLBasicMain\n",
    "\n",
    "args = [\n",
    "    \"--data-name\", \"iris\",\n",
    "    \"--algorithm-id\", \"1\",\n",
    "    \"--experiment-id\", \"2\",\n",
    "    \"--train-file\", \"../dataset/iris/a0_0_iris-10tra.dat\",\n",
    "    \"--test-file\", \"../dataset/iris/a0_0_iris-10tst.dat\",\n",
    "    \"--terminate-generation\", \"50\",\n",
    "    \"--objectives\", \"num-rules\", \"error-rate\",\n",
    "    # \"--crossover-type\", \"pittsburgh-crossover\",\n",
    "    # \"--antecedent-factory\", \"all-combination-antecedent-factory\",\n",
    "    \"--no-plot\"\n",
    "]\n",
    "\n",
    "runner = MoFGBMLBasicMain(HomoTriangleKnowledgeFactory_2_3_4_5)\n",
    "results = runner.main(args)"
   ],
   "outputs": [
    {
     "name": "stdout",
     "output_type": "stream",
     "text": [
      "==========================================================\n",
      "n_gen  |  n_eval  | n_nds  |      eps      |   indicator  \n",
      "==========================================================\n",
      "     1 |       60 |      4 |             - |             -\n",
      "     2 |      120 |      6 |  0.5714285714 |         ideal\n",
      "     3 |      180 |     15 |  0.0201550388 |             f\n",
      "     4 |      240 |     22 |  0.7500000000 |         nadir\n",
      "     5 |      300 |     42 |  0.000000E+00 |             f\n",
      "     6 |      360 |     60 |  0.3333333333 |         nadir\n",
      "     7 |      420 |     60 |  0.000000E+00 |             f\n",
      "     8 |      480 |     60 |  0.000000E+00 |             f\n",
      "     9 |      540 |     60 |  0.000000E+00 |             f\n",
      "    10 |      600 |     60 |  0.000000E+00 |             f\n",
      "    11 |      660 |     60 |  0.000000E+00 |             f\n",
      "    12 |      720 |     60 |  0.000000E+00 |             f\n",
      "    13 |      780 |     60 |  0.000000E+00 |             f\n",
      "    14 |      840 |     60 |  0.000000E+00 |             f\n",
      "    15 |      900 |     60 |  0.5000000000 |         nadir\n",
      "    16 |      960 |     60 |  0.000000E+00 |             f\n",
      "    17 |     1020 |     60 |  0.000000E+00 |             f\n",
      "    18 |     1080 |     60 |  0.000000E+00 |             f\n",
      "    19 |     1140 |     60 |  0.000000E+00 |             f\n",
      "    20 |     1200 |     60 |  0.000000E+00 |             f\n",
      "    21 |     1260 |     60 |  0.000000E+00 |             f\n",
      "    22 |     1320 |     60 |  0.000000E+00 |             f\n",
      "    23 |     1380 |     60 |  0.000000E+00 |             f\n",
      "    24 |     1440 |     60 |  0.000000E+00 |             f\n",
      "    25 |     1500 |     60 |  0.000000E+00 |             f\n",
      "    26 |     1560 |     60 |  0.000000E+00 |             f\n",
      "    27 |     1620 |     60 |  0.000000E+00 |             f\n",
      "    28 |     1680 |     60 |  0.000000E+00 |             f\n",
      "    29 |     1740 |     60 |  0.000000E+00 |             f\n",
      "    30 |     1800 |     60 |  0.000000E+00 |             f\n",
      "    31 |     1860 |     60 |  0.000000E+00 |             f\n",
      "    32 |     1920 |     60 |  0.000000E+00 |             f\n",
      "    33 |     1980 |     60 |  0.000000E+00 |             f\n",
      "    34 |     2040 |     60 |  0.000000E+00 |             f\n",
      "    35 |     2100 |     60 |  0.000000E+00 |             f\n",
      "    36 |     2160 |     60 |  0.000000E+00 |             f\n",
      "    37 |     2220 |     60 |  0.000000E+00 |             f\n",
      "    38 |     2280 |     60 |  0.000000E+00 |             f\n",
      "    39 |     2340 |     60 |  0.000000E+00 |             f\n",
      "    40 |     2400 |     60 |  0.000000E+00 |             f\n",
      "    41 |     2460 |     60 |  0.000000E+00 |             f\n",
      "    42 |     2520 |     60 |  0.000000E+00 |             f\n",
      "    43 |     2580 |     60 |  0.000000E+00 |             f\n",
      "    44 |     2640 |     60 |  0.000000E+00 |             f\n",
      "    45 |     2700 |     60 |  0.000000E+00 |             f\n",
      "    46 |     2760 |     60 |  0.000000E+00 |             f\n",
      "    47 |     2820 |     60 |  0.000000E+00 |             f\n",
      "    48 |     2880 |     60 |  0.000000E+00 |             f\n",
      "    49 |     2940 |     60 |  0.000000E+00 |             f\n",
      "    50 |     3000 |     60 |  0.000000E+00 |             f\n",
      "Execution time:  2.1096668243408203\n"
     ]
    }
   ],
   "execution_count": 5
  },
  {
   "metadata": {},
   "cell_type": "markdown",
   "source": "Plot",
   "id": "e0be31c241cbe579"
  },
  {
   "metadata": {
    "ExecuteTime": {
     "end_time": "2024-07-30T15:11:27.493467Z",
     "start_time": "2024-07-30T15:11:27.393611Z"
    }
   },
   "cell_type": "code",
   "source": "runner.get_plot(results.opt).show()",
   "id": "5efcf343e3aed452",
   "outputs": [
    {
     "data": {
      "text/plain": [
       "<pymoo.visualization.scatter.Scatter at 0x17953bd6210>"
      ]
     },
     "execution_count": 6,
     "metadata": {},
     "output_type": "execute_result"
    },
    {
     "data": {
      "text/plain": [
       "<Figure size 800x600 with 1 Axes>"
      ],
      "image/png": "[encoded data removed]"
     },
     "metadata": {},
     "output_type": "display_data"
    }
   ],
   "execution_count": 6
  },
  {
   "metadata": {
    "ExecuteTime": {
     "end_time": "2024-07-30T15:11:31.445915Z",
     "start_time": "2024-07-30T15:11:27.493467Z"
    }
   },
   "cell_type": "code",
   "source": "runner.save_video(results.archive, \"moead_iris.mp4\")",
   "id": "cf389495903d1844",
   "outputs": [],
   "execution_count": 7
  },
  {
   "metadata": {},
   "cell_type": "markdown",
   "source": "If the video doesn't play you can just get it in examples/ga.mp4",
   "id": "3feffbf1e82fc98e"
  },
  {
   "metadata": {
    "ExecuteTime": {
     "end_time": "2024-07-30T15:11:31.451358Z",
     "start_time": "2024-07-30T15:11:31.445915Z"
    }
   },
   "cell_type": "code",
   "source": [
    "from IPython.display import Video\n",
    "Video('./moead_iris.mp4')"
   ],
   "id": "ba343994a90e1179",
   "outputs": [
    {
     "data": {
      "text/plain": [
       "<IPython.core.display.Video object>"
      ],
      "text/html": [
       "<video src=\"./ga.mp4\" controls  >\n",
       "      Your browser does not support the <code>video</code> element.\n",
       "    </video>"
      ]
     },
     "execution_count": 8,
     "metadata": {},
     "output_type": "execute_result"
    }
   ],
   "execution_count": 8
  }
 ],
 "metadata": {
  "kernelspec": {
   "display_name": "Python 3",
   "language": "python",
   "name": "python3"
  },
  "language_info": {
   "codemirror_mode": {
    "name": "ipython",
    "version": 2
   },
   "file_extension": ".py",
   "mimetype": "text/x-python",
   "name": "python",
   "nbconvert_exporter": "python",
   "pygments_lexer": "ipython2",
   "version": "2.7.6"
  }
 },
 "nbformat": 4,
 "nbformat_minor": 5
}
