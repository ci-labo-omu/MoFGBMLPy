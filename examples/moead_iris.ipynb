{
 "cells": [
  {
   "metadata": {
    "ExecuteTime": {
     "end_time": "2024-08-04T05:42:20.991459Z",
     "start_time": "2024-08-04T05:42:20.987459Z"
    }
   },
   "cell_type": "code",
   "source": "%matplotlib inline",
   "id": "a7aa0130fdb8c225",
   "execution_count": 11,
   "outputs": []
  },
  {
   "cell_type": "code",
   "id": "initial_id",
   "metadata": {
    "collapsed": true,
    "ExecuteTime": {
     "end_time": "2024-08-05T01:01:17.862219Z",
     "start_time": "2024-08-05T00:59:41.641909Z"
    }
   },
   "source": [
    "from mofgbmlpy.fuzzy.knowledge.factory.homo_triangle_knowledge_factory_2_3_4_5 import HomoTriangleKnowledgeFactory_2_3_4_5\n",
    "from mofgbmlpy.main.moead.mofgbml_moead_main import MoFGBMLMOEADMain\n",
    "\n",
    "args = [\n",
    "    \"--data-name\", \"pima\",\n",
    "    \"--algorithm-id\", \"1\",\n",
    "    \"--experiment-id\", \"2\",\n",
    "    \"--train-file\", \"../dataset/pima/a0_0_pima-10tra.dat\",\n",
    "    \"--test-file\", \"../dataset/pima/a0_0_pima-10tst.dat\",\n",
    "    \"--terminate-evaluation\", \"30000\",\n",
    "    \"--objectives\", \"total-rule-length\", \"error-rate\",\n",
    "    # \"--crossover-type\", \"pittsburgh-crossover\",\n",
    "    # \"--antecedent-factory\", \"all-combination-antecedent-factory\",\n",
    "    # \"--gen-plot\"\n",
    "]\n",
    "\n",
    "runner = MoFGBMLMOEADMain(HomoTriangleKnowledgeFactory_2_3_4_5)\n",
    "results = runner.main(args)"
   ],
   "execution_count": 1,
   "outputs": []
  },
  {
   "metadata": {},
   "cell_type": "markdown",
   "source": "Plot",
   "id": "e0be31c241cbe579"
  },
  {
   "metadata": {
    "ExecuteTime": {
     "end_time": "2024-08-05T01:01:17.997860Z",
     "start_time": "2024-08-05T01:01:17.862219Z"
    }
   },
   "cell_type": "code",
   "source": [
    "runner.get_pareto_front_plot(results.opt).show()\n",
    "runner.plot_line_interpretability_error_rate_tradeoff(results.opt.get('X')[:, 0])"
   ],
   "id": "5efcf343e3aed452",
   "execution_count": 2,
   "outputs": []
  },
  {
   "metadata": {
    "ExecuteTime": {
     "end_time": "2024-08-04T05:43:30.474749Z",
     "start_time": "2024-08-04T05:42:59.587036Z"
    }
   },
   "cell_type": "code",
   "source": "runner.save_video(results.history, \"moead_iris.mp4\")",
   "id": "cf389495903d1844",
   "execution_count": 14,
   "outputs": []
  },
  {
   "metadata": {},
   "cell_type": "markdown",
   "source": "If the video doesn't play you can just get it in examples/ga.mp4",
   "id": "3feffbf1e82fc98e"
  },
  {
   "metadata": {
    "ExecuteTime": {
     "end_time": "2024-08-04T05:43:30.480168Z",
     "start_time": "2024-08-04T05:43:30.474749Z"
    }
   },
   "cell_type": "code",
   "source": [
    "from IPython.display import Video\n",
    "Video('./moead_iris.mp4')"
   ],
   "id": "ba343994a90e1179",
   "execution_count": 15,
   "outputs": []
  },
  {
   "metadata": {
    "ExecuteTime": {
     "end_time": "2024-08-04T05:43:30.483Z",
     "start_time": "2024-08-04T05:43:30.480168Z"
    }
   },
   "cell_type": "code",
   "source": "",
   "id": "6a606d46d69ab7d2",
   "execution_count": 15,
   "outputs": []
  }
 ],
 "metadata": {
  "kernelspec": {
   "display_name": "Python 3",
   "language": "python",
   "name": "python3"
  },
  "language_info": {
   "codemirror_mode": {
    "name": "ipython",
    "version": 2
   },
   "file_extension": ".py",
   "mimetype": "text/x-python",
   "name": "python",
   "nbconvert_exporter": "python",
   "pygments_lexer": "ipython2",
   "version": "2.7.6"
  }
 },
 "nbformat": 4,
 "nbformat_minor": 5
}
