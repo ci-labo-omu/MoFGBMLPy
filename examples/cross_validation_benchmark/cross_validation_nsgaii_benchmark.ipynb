{
 "cells": [
  {
   "cell_type": "code",
   "id": "initial_id",
   "metadata": {
    "collapsed": true,
    "ExecuteTime": {
     "end_time": "2024-08-21T02:20:51.281583Z",
     "start_time": "2024-08-21T02:20:50.454255Z"
    }
   },
   "source": "from mofgbmlpy.utility.parallel_cross_validation import run_cross_validation",
   "outputs": [],
   "execution_count": 1
  },
  {
   "metadata": {
    "ExecuteTime": {
     "end_time": "2024-08-21T02:13:03.206798Z",
     "start_time": "2024-08-21T02:07:16.713812Z"
    }
   },
   "cell_type": "code",
   "source": [
    "for data_name in [\"iris\", \"pima\", \"bupa\"]:\n",
    "    root_folder = \"../..\"\n",
    "    results_root_folder = root_folder + \"/results\"\n",
    "    algorithm_id = f\"Basic{data_name}Basic\"\n",
    "    dataset_root = root_folder + \"/dataset\"\n",
    "    \n",
    "    args = [\n",
    "        \"--data-name\", data_name,\n",
    "        \"--rand-seed\", \"2020\",\n",
    "        \"--terminate-evaluation\", \"10000\",\n",
    "        \"--objectives\", \"num-rules\", \"error-rate\",\n",
    "        \"--algorithm-id\", algorithm_id,\n",
    "        \"--root-folder\", results_root_folder,\n",
    "    ]\n",
    "    \n",
    "    run_cross_validation(args, dataset_root)"
   ],
   "id": "3788e17af984f6ea",
   "outputs": [
    {
     "name": "stdout",
     "output_type": "stream",
     "text": [
      "Execution time: 53.163978576660156\n",
      "Execution time: 205.1197600364685\n",
      "Execution time: 88.1971480846405\n"
     ]
    }
   ],
   "execution_count": 17
  },
  {
   "metadata": {
    "ExecuteTime": {
     "end_time": "2024-08-21T02:49:47.603459Z",
     "start_time": "2024-08-21T02:49:47.565119Z"
    }
   },
   "cell_type": "code",
   "source": [
    "from mofgbmlpy.data.output import Output\n",
    "from mofgbmlpy.utility.parallel_cross_validation import show_results_median_line_plot, get_results, show_results_box_plot\n",
    "import numpy as np\n",
    "from matplotlib import pyplot as plt\n",
    "\n",
    "xlims = {\n",
    "    \"iris\": (0,7.1),\n",
    "    \"pima\": (0,14.1),\n",
    "    \"bupa\": (0,11.1),\n",
    "}\n",
    "\n",
    "root_folder = \"../..\"\n",
    "results_root_folder = root_folder + \"/results\"\n",
    "plot_dir = results_root_folder + \"/plots\"\n",
    "Output.mkdirs(plot_dir)\n",
    "\n",
    "for data_name in [\"iris\", \"pima\", \"bupa\"]:\n",
    "    print(f\"=========== DATASET {data_name} ===========\\n\")\n",
    "    algorithm_id = f\"Basic{data_name}Basic\"\n",
    "    dataset_root = root_folder + \"/dataset\"\n",
    "    \n",
    "    results = get_results(results_root_folder, algorithm_id, data_name)\n",
    "    results_solutions = [run[\"solutions\"] for run in results]\n",
    "    run_times = [run[\"exec_time\"] for run in results]\n",
    "    \n",
    "    # show_results_box_plot(results_solutions, x_key=\"num_rules\", remove_rare_solutions=True, xlim=None)\n",
    "    title = f\"Error-rate/Explainability Trade-off on {data_name.capitalize()} With NSGAII\\n 10 000 evaluations (Median of the Runs)\"\n",
    "    file_path = f\"{plot_dir}/nsgaii_{data_name}_10000eval_median_line\"\n",
    "    show_results_median_line_plot(results_solutions, x_key=\"num_rules\", remove_rare_solutions=False, xlim=xlims[data_name], title=title, file_path=file_path)\n",
    "\n",
    "    title = f\"Error-rate/Explainability Trade-off on {data_name.capitalize()} With NSGAII\\n 10 000 evaluations (Median of the runs) and Rare Solutions Removal\"\n",
    "    file_path = f\"{plot_dir}/nsgaii_{data_name}_10000eval_median_line_rare_solutions_removal\"\n",
    "    show_results_median_line_plot(results_solutions, x_key=\"num_rules\", remove_rare_solutions=True, xlim=xlims[data_name], title=title, file_path=file_path)\n",
    "        \n",
    "    # plt.boxplot(run_times)\n",
    "    # plt.title(\"Execution time\")\n",
    "    # plt.show()\n",
    "    \n",
    "    print(\"Q1: \", np.quantile(run_times, 0.25))\n",
    "    print(\"Median : \", np.median(run_times))\n",
    "    print(\"Q3: \", np.quantile(run_times, 0.75))\n",
    "    print(\"Average : \", np.mean(run_times))\n",
    "    print(\"Std: \", np.std(run_times))\n",
    "    "
   ],
   "id": "f1a1aff6818c967f",
   "outputs": [
    {
     "name": "stdout",
     "output_type": "stream",
     "text": [
      "=========== DATASET iris ===========\n",
      "\n",
      "Q1:  13.869559288024902\n",
      "Median :  15.35815966129303\n",
      "Q3:  17.161905348300934\n",
      "Average :  15.265970738728841\n",
      "Std:  2.3806970519904054\n",
      "=========== DATASET pima ===========\n",
      "\n",
      "Q1:  55.1515126824379\n",
      "Median :  61.63210618495941\n",
      "Q3:  65.33152484893799\n",
      "Average :  59.081356859207155\n",
      "Std:  8.988991547960781\n",
      "=========== DATASET bupa ===========\n",
      "\n",
      "Q1:  23.51272761821747\n",
      "Median :  25.691207885742188\n",
      "Q3:  28.144419968128204\n",
      "Average :  25.61286378701528\n",
      "Std:  3.5495848402044112\n"
     ]
    }
   ],
   "execution_count": 6
  },
  {
   "metadata": {
    "ExecuteTime": {
     "end_time": "2024-08-20T13:14:48.909081Z",
     "start_time": "2024-08-20T13:14:48.906070Z"
    }
   },
   "cell_type": "code",
   "source": "",
   "id": "942e1dec33f0a503",
   "outputs": [],
   "execution_count": 10
  }
 ],
 "metadata": {
  "kernelspec": {
   "display_name": "Python 3",
   "language": "python",
   "name": "python3"
  },
  "language_info": {
   "codemirror_mode": {
    "name": "ipython",
    "version": 2
   },
   "file_extension": ".py",
   "mimetype": "text/x-python",
   "name": "python",
   "nbconvert_exporter": "python",
   "pygments_lexer": "ipython2",
   "version": "2.7.6"
  }
 },
 "nbformat": 4,
 "nbformat_minor": 5
}
